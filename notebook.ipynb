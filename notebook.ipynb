{
 "cells": [
  {
   "cell_type": "markdown",
   "metadata": {},
   "source": [
    "## Download code and data"
   ]
  },
  {
   "cell_type": "code",
   "execution_count": null,
   "metadata": {},
   "outputs": [],
   "source": [
    "!git init\n",
    "!git remote add origin https://github.com/dtungpka/AligningVTVSignlanguage.git\n",
    "!git pull\n",
    "!git checkout main -f\n",
    "!git branch --set-upstream-to origin/main"
   ]
  },
  {
   "cell_type": "markdown",
   "metadata": {},
   "source": [
    "If on colab, run the following cell to download the code and data. If running locally, you can download the data from [skeleton.zip](https://daihocphenikaa-my.sharepoint.com/:u:/g/personal/21010294_st_phenikaa-uni_edu_vn/EeqGCq4MsZtMm54TiKhx980BAPQSrwMjPX_hpMRaSMD-Uw?download=1) and [evaluation_pack.pkl](https://daihocphenikaa-my.sharepoint.com/:u:/g/personal/21010294_st_phenikaa-uni_edu_vn/ESIr97SZa6FNtG3P76ddu9EBk_eKCnVG-HHM71rjNVjKpQ?download=1)"
   ]
  },
  {
   "cell_type": "code",
   "execution_count": null,
   "metadata": {},
   "outputs": [],
   "source": [
    "!wget -O skeletons.zip \"https://daihocphenikaa-my.sharepoint.com/:u:/g/personal/21010294_st_phenikaa-uni_edu_vn/EeqGCq4MsZtMm54TiKhx980BAPQSrwMjPX_hpMRaSMD-Uw?download=1\"\n",
    "!unzip skeletons.zip\n",
    "!wget -O evaluation_pack.pkl \"https://daihocphenikaa-my.sharepoint.com/:u:/g/personal/21010294_st_phenikaa-uni_edu_vn/ESIr97SZa6FNtG3P76ddu9EBk_eKCnVG-HHM71rjNVjKpQ?download=1\""
   ]
  },
  {
   "cell_type": "code",
   "execution_count": null,
   "metadata": {},
   "outputs": [],
   "source": [
    "import os\n",
    "import train\n",
    "import pandas as pd\n",
    "import os\n",
    "import glob\n",
    "import pickle"
   ]
  },
  {
   "cell_type": "markdown",
   "metadata": {},
   "source": [
    "## 1. Select signs"
   ]
  },
  {
   "cell_type": "code",
   "execution_count": null,
   "metadata": {},
   "outputs": [],
   "source": [
    "from select_signs import main as select_signs_main\n",
    "if not os.path.exists('pending_training.txt'):\n",
    "    select_signs_main()\n",
    "else:\n",
    "    print('pending_training.txt exists. Skip select_signs')"
   ]
  },
  {
   "cell_type": "markdown",
   "metadata": {},
   "source": [
    "You should download the `pending_training.txt` file to backup it"
   ]
  },
  {
   "cell_type": "markdown",
   "metadata": {},
   "source": [
    "## 2. Training"
   ]
  },
  {
   "cell_type": "code",
   "execution_count": null,
   "metadata": {},
   "outputs": [],
   "source": [
    "EPOCHS = 50\n",
    "N_FRAMES = 5\n",
    "\n",
    "\n",
    "signs_file = 'pending_training.txt'\n",
    "if not os.path.exists(signs_file):\n",
    "    print(f\"File '{signs_file}' does not exist.\")\n",
    "    exit(1)\n",
    "with open(signs_file, 'r') as f:\n",
    "    signs_list = [line.strip() for line in f.readlines()]\n",
    "train.process_signs(data_folder=\"skeletons\", save_path=\"models\", signs_list=signs_list, epochs=EPOCHS, n_frames=N_FRAMES)"
   ]
  },
  {
   "cell_type": "code",
   "execution_count": null,
   "metadata": {},
   "outputs": [],
   "source": [
    "# Get list of all CSV files in the results folder\n",
    "csv_files = glob.glob(os.path.join('results', 'training_results_*.csv'))\n",
    "\n",
    "print(csv_files)\n",
    "# Get the newest CSV file\n",
    "newest_csv = max(csv_files, key=os.path.getctime)\n",
    "\n",
    "# Read the newest CSV file into a pandas DataFrame\n",
    "df_newest = pd.read_csv(newest_csv)\n",
    "\n",
    "# Display the DataFrame interactively\n",
    "df_newest"
   ]
  },
  {
   "cell_type": "markdown",
   "metadata": {},
   "source": [
    "## 3. Evaluate on VTV"
   ]
  },
  {
   "cell_type": "code",
   "execution_count": null,
   "metadata": {},
   "outputs": [],
   "source": [
    "if os.path.exists(os.path.join('results', 'results.csv')):\n",
    "    os.remove(os.path.join('results', 'results.csv'))\n",
    "from evaluate import process_evaluation_pack\n",
    "\n",
    "evaluation_pack_path = 'evaluation_pack.pkl'\n",
    "checkpoint_path = 'models'\n",
    "save_path = 'results'\n",
    "frame_count = 5 #equal to N_FRAMES\n",
    "delta = 120 #window size to find the sign\n",
    "\n",
    "# Load evaluation pack and process\n",
    "with open(evaluation_pack_path, 'rb') as f:\n",
    "    evaluation_pack = pickle.load(f)\n",
    "\n",
    "process_evaluation_pack(evaluation_pack, checkpoint_path, save_path, frame_count, delta)"
   ]
  },
  {
   "cell_type": "code",
   "execution_count": null,
   "metadata": {},
   "outputs": [],
   "source": [
    "# Get list of all CSV files in the results folder\n",
    "csv_files = glob.glob(os.path.join('results', 'results.csv'))\n",
    "\n",
    "print(csv_files)\n",
    "# Get the newest CSV file\n",
    "newest_csv = max(csv_files, key=os.path.getctime)\n",
    "\n",
    "# Read the newest CSV file into a pandas DataFrame\n",
    "df_newest = pd.read_csv(newest_csv)\n",
    "\n",
    "# Display the DataFrame interactively\n",
    "df_newest"
   ]
  }
 ],
 "metadata": {
  "kernelspec": {
   "display_name": "Python 3",
   "language": "python",
   "name": "python3"
  },
  "language_info": {
   "codemirror_mode": {
    "name": "ipython",
    "version": 3
   },
   "file_extension": ".py",
   "mimetype": "text/x-python",
   "name": "python",
   "nbconvert_exporter": "python",
   "pygments_lexer": "ipython3",
   "version": "3.9.13"
  }
 },
 "nbformat": 4,
 "nbformat_minor": 2
}
